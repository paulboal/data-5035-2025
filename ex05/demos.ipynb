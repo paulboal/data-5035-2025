{
 "cells": [
  {
   "cell_type": "code",
   "execution_count": 48,
   "metadata": {},
   "outputs": [
    {
     "name": "stdout",
     "output_type": "stream",
     "text": [
      "Requirement already satisfied: pyarrow in /Users/paulboal/.pyenv/versions/3.11.9/envs/data5035/lib/python3.11/site-packages (19.0.0)\n",
      "\n",
      "\u001b[1m[\u001b[0m\u001b[34;49mnotice\u001b[0m\u001b[1;39;49m]\u001b[0m\u001b[39;49m A new release of pip is available: \u001b[0m\u001b[31;49m24.0\u001b[0m\u001b[39;49m -> \u001b[0m\u001b[32;49m25.0.1\u001b[0m\n",
      "\u001b[1m[\u001b[0m\u001b[34;49mnotice\u001b[0m\u001b[1;39;49m]\u001b[0m\u001b[39;49m To update, run: \u001b[0m\u001b[32;49mpip install --upgrade pip\u001b[0m\n"
     ]
    }
   ],
   "source": [
    "# pyarrow is the library that provides support for parquet files\n",
    "!pip install pyarrow"
   ]
  },
  {
   "cell_type": "code",
   "execution_count": 49,
   "metadata": {},
   "outputs": [],
   "source": [
    "import pyarrow\n",
    "import pandas as pd\n",
    "import numpy as np"
   ]
  },
  {
   "cell_type": "code",
   "execution_count": null,
   "metadata": {},
   "outputs": [],
   "source": [
    "# For my example, I'm going to generate some random data about locations on a theoretical map\n",
    "# Don't try to make sense out of the topology or geography\n",
    "\n",
    "NUMROWS=100\n",
    "\n",
    "raw = {\n",
    "    'lat': np.random.randint(0,180000, NUMROWS)/1000,  # 0.000-180.000\n",
    "    'lat_d': np.random.choice(['N','S'], NUMROWS),     # N or S\n",
    "    'lng': np.random.randint(0,180000, NUMROWS)/1000,  # 0.000-180.000\n",
    "    'lng_d': np.random.choice(['E','W'], NUMROWS),     # E or W\n",
    "    'elevation': np.random.randint(0,10000, NUMROWS),  # 0-10km\n",
    "    'climate': np.random.choice(['Tundra','Arid','Polar','Tropical','Alpine','Oceanic'], NUMROWS)\n",
    "}\n",
    "\n",
    "locations = pd.DataFrame(raw)"
   ]
  },
  {
   "cell_type": "code",
   "execution_count": 51,
   "metadata": {},
   "outputs": [
    {
     "data": {
      "text/html": [
       "<div>\n",
       "<style scoped>\n",
       "    .dataframe tbody tr th:only-of-type {\n",
       "        vertical-align: middle;\n",
       "    }\n",
       "\n",
       "    .dataframe tbody tr th {\n",
       "        vertical-align: top;\n",
       "    }\n",
       "\n",
       "    .dataframe thead th {\n",
       "        text-align: right;\n",
       "    }\n",
       "</style>\n",
       "<table border=\"1\" class=\"dataframe\">\n",
       "  <thead>\n",
       "    <tr style=\"text-align: right;\">\n",
       "      <th></th>\n",
       "      <th>lat</th>\n",
       "      <th>lat_d</th>\n",
       "      <th>lng</th>\n",
       "      <th>lng_d</th>\n",
       "      <th>elevation</th>\n",
       "      <th>climate</th>\n",
       "    </tr>\n",
       "  </thead>\n",
       "  <tbody>\n",
       "    <tr>\n",
       "      <th>0</th>\n",
       "      <td>33.500</td>\n",
       "      <td>S</td>\n",
       "      <td>80.002</td>\n",
       "      <td>W</td>\n",
       "      <td>2304</td>\n",
       "      <td>Arid</td>\n",
       "    </tr>\n",
       "    <tr>\n",
       "      <th>1</th>\n",
       "      <td>24.859</td>\n",
       "      <td>S</td>\n",
       "      <td>136.069</td>\n",
       "      <td>W</td>\n",
       "      <td>1737</td>\n",
       "      <td>Polar</td>\n",
       "    </tr>\n",
       "    <tr>\n",
       "      <th>2</th>\n",
       "      <td>138.023</td>\n",
       "      <td>S</td>\n",
       "      <td>96.807</td>\n",
       "      <td>W</td>\n",
       "      <td>3637</td>\n",
       "      <td>Tropical</td>\n",
       "    </tr>\n",
       "    <tr>\n",
       "      <th>3</th>\n",
       "      <td>79.865</td>\n",
       "      <td>S</td>\n",
       "      <td>165.303</td>\n",
       "      <td>E</td>\n",
       "      <td>3313</td>\n",
       "      <td>Alpine</td>\n",
       "    </tr>\n",
       "    <tr>\n",
       "      <th>4</th>\n",
       "      <td>118.190</td>\n",
       "      <td>N</td>\n",
       "      <td>44.093</td>\n",
       "      <td>E</td>\n",
       "      <td>9882</td>\n",
       "      <td>Tropical</td>\n",
       "    </tr>\n",
       "    <tr>\n",
       "      <th>...</th>\n",
       "      <td>...</td>\n",
       "      <td>...</td>\n",
       "      <td>...</td>\n",
       "      <td>...</td>\n",
       "      <td>...</td>\n",
       "      <td>...</td>\n",
       "    </tr>\n",
       "    <tr>\n",
       "      <th>99995</th>\n",
       "      <td>122.705</td>\n",
       "      <td>N</td>\n",
       "      <td>101.028</td>\n",
       "      <td>W</td>\n",
       "      <td>1605</td>\n",
       "      <td>Polar</td>\n",
       "    </tr>\n",
       "    <tr>\n",
       "      <th>99996</th>\n",
       "      <td>143.093</td>\n",
       "      <td>N</td>\n",
       "      <td>27.322</td>\n",
       "      <td>W</td>\n",
       "      <td>371</td>\n",
       "      <td>Alpine</td>\n",
       "    </tr>\n",
       "    <tr>\n",
       "      <th>99997</th>\n",
       "      <td>151.102</td>\n",
       "      <td>S</td>\n",
       "      <td>47.549</td>\n",
       "      <td>W</td>\n",
       "      <td>4272</td>\n",
       "      <td>Arid</td>\n",
       "    </tr>\n",
       "    <tr>\n",
       "      <th>99998</th>\n",
       "      <td>50.412</td>\n",
       "      <td>N</td>\n",
       "      <td>159.283</td>\n",
       "      <td>E</td>\n",
       "      <td>6909</td>\n",
       "      <td>Tundra</td>\n",
       "    </tr>\n",
       "    <tr>\n",
       "      <th>99999</th>\n",
       "      <td>65.622</td>\n",
       "      <td>S</td>\n",
       "      <td>168.798</td>\n",
       "      <td>E</td>\n",
       "      <td>7604</td>\n",
       "      <td>Tundra</td>\n",
       "    </tr>\n",
       "  </tbody>\n",
       "</table>\n",
       "<p>100000 rows × 6 columns</p>\n",
       "</div>"
      ],
      "text/plain": [
       "           lat lat_d      lng lng_d  elevation   climate\n",
       "0       33.500     S   80.002     W       2304      Arid\n",
       "1       24.859     S  136.069     W       1737     Polar\n",
       "2      138.023     S   96.807     W       3637  Tropical\n",
       "3       79.865     S  165.303     E       3313    Alpine\n",
       "4      118.190     N   44.093     E       9882  Tropical\n",
       "...        ...   ...      ...   ...        ...       ...\n",
       "99995  122.705     N  101.028     W       1605     Polar\n",
       "99996  143.093     N   27.322     W        371    Alpine\n",
       "99997  151.102     S   47.549     W       4272      Arid\n",
       "99998   50.412     N  159.283     E       6909    Tundra\n",
       "99999   65.622     S  168.798     E       7604    Tundra\n",
       "\n",
       "[100000 rows x 6 columns]"
      ]
     },
     "execution_count": 51,
     "metadata": {},
     "output_type": "execute_result"
    }
   ],
   "source": [
    "locations"
   ]
  },
  {
   "cell_type": "code",
   "execution_count": 52,
   "metadata": {},
   "outputs": [
    {
     "data": {
      "text/plain": [
       "20300454"
      ]
     },
     "execution_count": 52,
     "metadata": {},
     "output_type": "execute_result"
    }
   ],
   "source": [
    "import sys\n",
    "\n",
    "# A good estimate of how much space in memory this df takes up (in bytes)\n",
    "sys.getsizeof(locations)"
   ]
  },
  {
   "cell_type": "code",
   "execution_count": 53,
   "metadata": {},
   "outputs": [
    {
     "name": "stdout",
     "output_type": "stream",
     "text": [
      "176 ms ± 12.8 ms per loop (mean ± std. dev. of 10 runs, 1 loop each)\n"
     ]
    },
    {
     "data": {
      "text/plain": [
       "0.17630057909991592"
      ]
     },
     "execution_count": 53,
     "metadata": {},
     "output_type": "execute_result"
    }
   ],
   "source": [
    "# The %timeit magic allows you to time the execution of a command and get the timing\n",
    "t = %timeit -n1 -r10 -o locations.to_csv('locations.csv')\n",
    "t.average"
   ]
  },
  {
   "cell_type": "code",
   "execution_count": 54,
   "metadata": {},
   "outputs": [
    {
     "name": "stdout",
     "output_type": "stream",
     "text": [
      "456 ms ± 29.3 ms per loop (mean ± std. dev. of 10 runs, 1 loop each)\n"
     ]
    },
    {
     "data": {
      "text/plain": [
       "0.45555860829772427"
      ]
     },
     "execution_count": 54,
     "metadata": {},
     "output_type": "execute_result"
    }
   ],
   "source": [
    "t = %timeit -n1 -r10 -o locations.to_csv('locations.csv.gz')\n",
    "t.average"
   ]
  },
  {
   "cell_type": "code",
   "execution_count": 55,
   "metadata": {},
   "outputs": [
    {
     "name": "stdout",
     "output_type": "stream",
     "text": [
      "28.7 ms ± 2.59 ms per loop (mean ± std. dev. of 10 runs, 1 loop each)\n"
     ]
    },
    {
     "data": {
      "text/plain": [
       "0.028702275117393584"
      ]
     },
     "execution_count": 55,
     "metadata": {},
     "output_type": "execute_result"
    }
   ],
   "source": [
    "t = %timeit -n1 -r10 -o locations.to_parquet('locations.parquet')\n",
    "t.average"
   ]
  },
  {
   "cell_type": "code",
   "execution_count": 56,
   "metadata": {},
   "outputs": [
    {
     "name": "stdout",
     "output_type": "stream",
     "text": [
      "27.4 ms ± 1.07 ms per loop (mean ± std. dev. of 10 runs, 1 loop each)\n"
     ]
    },
    {
     "data": {
      "text/plain": [
       "0.027449595893267544"
      ]
     },
     "execution_count": 56,
     "metadata": {},
     "output_type": "execute_result"
    }
   ],
   "source": [
    "t = %timeit -n1 -r10 -o locations.to_parquet('locations.parquet.gz')\n",
    "t.average"
   ]
  },
  {
   "cell_type": "code",
   "execution_count": 57,
   "metadata": {},
   "outputs": [
    {
     "data": {
      "text/plain": [
       "(3633761, 1356308, 1502851, 1502851)"
      ]
     },
     "execution_count": 57,
     "metadata": {},
     "output_type": "execute_result"
    }
   ],
   "source": [
    "import os\n",
    "\n",
    "# We can use the os.stat(FILE).st_size to get information about how big our files are\n",
    "sz_csv = os.stat('locations.csv').st_size\n",
    "sz_csvgz = os.stat('locations.csv.gz').st_size\n",
    "sz_pq = os.stat('locations.parquet').st_size\n",
    "sz_pqgz = os.stat('locations.parquet.gz').st_size\n",
    "\n",
    "(sz_csv, sz_csvgz, sz_pq, sz_pqgz)"
   ]
  },
  {
   "cell_type": "code",
   "execution_count": 58,
   "metadata": {},
   "outputs": [],
   "source": [
    "# What are the tradeoffs for us when we look at larger and larger file sizes?\n",
    "# Clean up your code so that you can capture the timing and file sizes for each format\n",
    "# for multiple numbers of records. Pick some intervals between the 100 we've done here\n",
    "# and as large as your laptop can handle. Maybe 10M or 100M rows?"
   ]
  }
 ],
 "metadata": {
  "kernelspec": {
   "display_name": "data5035",
   "language": "python",
   "name": "python3"
  },
  "language_info": {
   "codemirror_mode": {
    "name": "ipython",
    "version": 3
   },
   "file_extension": ".py",
   "mimetype": "text/x-python",
   "name": "python",
   "nbconvert_exporter": "python",
   "pygments_lexer": "ipython3",
   "version": "3.11.9"
  }
 },
 "nbformat": 4,
 "nbformat_minor": 2
}
