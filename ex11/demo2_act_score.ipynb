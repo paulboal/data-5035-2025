{
 "cells": [
  {
   "cell_type": "markdown",
   "id": "195a98a6",
   "metadata": {},
   "source": [
    "# ACT Score Analysis\n",
    "\n",
    "Use the included `act_rates.csv` file to create a sample data set of 10,000 students that follows the distribution of ACT scores.\n",
    "\n",
    "Plot that distribution as a histogram.  Is it a normal distribution?\n",
    "\n",
    "Use an Equal-Size binning strategy of to create five bins and plot that distribution. What appears different to you?\n",
    "\n",
    "Use an Equal-Frequency binning strategy and plot that distribution. What appears different to you?"
   ]
  },
  {
   "cell_type": "code",
   "execution_count": 1,
   "id": "b9910778",
   "metadata": {},
   "outputs": [],
   "source": [
    "import pandas as pd"
   ]
  },
  {
   "cell_type": "code",
   "execution_count": null,
   "id": "1be1eaf4",
   "metadata": {},
   "outputs": [],
   "source": []
  }
 ],
 "metadata": {
  "kernelspec": {
   "display_name": "data5035",
   "language": "python",
   "name": "python3"
  },
  "language_info": {
   "codemirror_mode": {
    "name": "ipython",
    "version": 3
   },
   "file_extension": ".py",
   "mimetype": "text/x-python",
   "name": "python",
   "nbconvert_exporter": "python",
   "pygments_lexer": "ipython3",
   "version": "3.11.9"
  }
 },
 "nbformat": 4,
 "nbformat_minor": 5
}
