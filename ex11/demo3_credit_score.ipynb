{
 "cells": [
  {
   "cell_type": "markdown",
   "id": "453c79ab",
   "metadata": {},
   "source": [
    "# Credit Score Distribution\n",
    "\n",
    "The distribution of credit scores in the US is given in the table below. Generate a random set of 10,000 data points that roughly follows this distribution. Make sure the credit score values are distributed across the entire 300 to 850 point range.\n",
    "\n",
    "```text\n",
    "Range             Credit Tier       % of US\n",
    "300-579           Poor              16%\n",
    "580-669           Fair              17%\n",
    "670-739           Good              21%\n",
    "740-799           Very Good         25%\n",
    "800-850           Excellent         21%\n",
    "```\n",
    "\n",
    "Apply the Credit Tier categories above to your data and create a bar plot with those categories.  Does it look normally distributed?\n",
    "\n",
    "Use an Equal-Width binning strategy and plot that bar chart / histogram. What do you observe that appears different?\n",
    "\n",
    "Use an Equal-Frequency binning strategy and plot that bar chart. What do you observe that appears different?"
   ]
  },
  {
   "cell_type": "code",
   "execution_count": null,
   "id": "358ecb01",
   "metadata": {},
   "outputs": [],
   "source": [
    "import pandas as pd"
   ]
  },
  {
   "cell_type": "markdown",
   "id": "70977de5",
   "metadata": {},
   "source": []
  }
 ],
 "metadata": {
  "kernelspec": {
   "display_name": "data5035",
   "language": "python",
   "name": "python3"
  },
  "language_info": {
   "name": "python",
   "version": "3.11.9"
  }
 },
 "nbformat": 4,
 "nbformat_minor": 5
}
