{
 "cells": [
  {
   "cell_type": "markdown",
   "metadata": {},
   "source": [
    "# Snowflake SQL API Demo\n",
    "\n",
    "There are several ways to run Snowflake queries from other programming languages, but the most versatile one is the Snowflake SQL API. This API is a REST web service that can be accessed from any tool or programming language that support HTTP interactions like GET and POST.\n",
    "\n",
    "In this demonstration, we'll use the Snowflake SQL API to create a table and load some data to it using our DATA5035_USER user account."
   ]
  },
  {
   "cell_type": "markdown",
   "metadata": {
    "vscode": {
     "languageId": "plaintext"
    }
   },
   "source": [
    "## Key Pair Authentication\n",
    "\n",
    "While interacting with Snowflake using a user name and password is possible (we've done it before), a more secure was is to create and use a secure public / private key pair as shown in the instructions here:\n",
    "* [Setting up key pair authentication](https://docs.snowflake.com/en/user-guide/key-pair-auth#configuring-key-pair-authentication)\n",
    "* [Using key pair authentication with SQL API](https://docs.snowflake.com/en/developer-guide/sql-api/authenticating#using-key-pair-authentication)"
   ]
  },
  {
   "cell_type": "code",
   "execution_count": null,
   "metadata": {},
   "outputs": [],
   "source": [
    "# Install the pyjwt package if needed\n",
    "!pip install pyjwt"
   ]
  },
  {
   "cell_type": "code",
   "execution_count": null,
   "metadata": {},
   "outputs": [],
   "source": [
    "# Function to generate a JWT Token\n",
    "\n",
    "from cryptography.hazmat.primitives.serialization import load_pem_private_key\n",
    "from cryptography.hazmat.primitives.serialization import Encoding\n",
    "from cryptography.hazmat.primitives.serialization import PublicFormat\n",
    "from cryptography.hazmat.backends import default_backend\n",
    "from datetime import timedelta, timezone, datetime\n",
    "import base64\n",
    "import hashlib\n",
    "import jwt\n",
    "\n",
    "def gen_token(account:str, user:str, private_key_file:str):\n",
    "    \"\"\"\n",
    "    account - Snowflake account name in ORGANZIATION-ACCOUNT format\n",
    "    user - Snowflake user name\n",
    "    private_key_file - Location and name of file with private key\n",
    "    \"\"\"\n",
    "\n",
    "    # Use uppercase for the account identifier and user name.\n",
    "    account = account.upper()\n",
    "    user = user.upper()\n",
    "    qualified_username = account + \".\" + user\n",
    "\n",
    "    # Get the current time in order to specify the time when the JWT was issued and the expiration time of the JWT.\n",
    "    now = datetime.now(timezone.utc)\n",
    "\n",
    "    # Specify the length of time during which the JWT will be valid. You can specify at most 1 hour.\n",
    "    lifetime = timedelta(minutes=59)\n",
    "\n",
    "    # Load the private key from the specified file.\n",
    "    with open(private_key_file, 'rb') as pem_in:\n",
    "        pemlines = pem_in.read()\n",
    "        private_key = load_pem_private_key(pemlines, None, default_backend())\n",
    "\n",
    "\n",
    "    # Create public key fingerprint\n",
    "    public_key_raw = private_key.public_key().public_bytes(Encoding.DER, PublicFormat.SubjectPublicKeyInfo)\n",
    "\n",
    "    # Get the sha256 hash of the raw bytes.\n",
    "    sha256hash = hashlib.sha256()\n",
    "    sha256hash.update(public_key_raw)\n",
    "\n",
    "    # Base64-encode the value and prepend the prefix 'SHA256:'.\n",
    "    public_key_fp = 'SHA256:' + base64.b64encode(sha256hash.digest()).decode('utf-8')\n",
    "\n",
    "\n",
    "    # Create the payload for the token.\n",
    "    payload = {\n",
    "\n",
    "        # Set the issuer to the fully qualified username concatenated with the public key fingerprint (calculated in the  previous step).\n",
    "        \"iss\": qualified_username + '.' + public_key_fp,\n",
    "\n",
    "        # Set the subject to the fully qualified username.\n",
    "        \"sub\": qualified_username,\n",
    "\n",
    "        # Set the issue time to now.\n",
    "        \"iat\": now,\n",
    "\n",
    "        # Set the expiration time, based on the lifetime specified for this object.\n",
    "        \"exp\": now + lifetime\n",
    "    }\n",
    "\n",
    "    # Generate the JWT. private_key is the private key that you read from the private key file in the previous step when you generated the public key fingerprint.\n",
    "    encoding_algorithm=\"RS256\"\n",
    "    token = jwt.encode(payload, key=private_key, algorithm=encoding_algorithm)\n",
    "\n",
    "    # If you are using a version of PyJWT prior to 2.0, jwt.encode returns a byte string, rather than a string.\n",
    "    # If the token is a byte string, convert it to a string.\n",
    "    if isinstance(token, bytes):\n",
    "        token = token.decode('utf-8')\n",
    "\n",
    "    return token"
   ]
  },
  {
   "cell_type": "code",
   "execution_count": null,
   "metadata": {},
   "outputs": [],
   "source": [
    "# Enter your own Snowflake account information, user, and private key file location\n",
    "ACCOUNT = \"ORG-ACCOUNT\"\n",
    "USERNAME = \"DATA5035_USER\"\n",
    "PRIVATE_KEY_FILE = \"/path/to/data5035_user.p8\"\n",
    "\n",
    "token = gen_token(ACCOUNT, USERNAME, PRIVATE_KEY_FILE)\n"
   ]
  },
  {
   "cell_type": "markdown",
   "metadata": {},
   "source": [
    "Put this content into a file named query.json\n",
    "\n",
    "```json\n",
    "{\n",
    "  \"statement\": \"select count(1) from data5035.public.donations\",\n",
    "  \"timeout\": 60,\n",
    "  \"database\": \"DATA5035\",\n",
    "  \"schema\": \"PUBLIC\",\n",
    "  \"warehouse\": \"DATA5035_WH\",\n",
    "  \"role\": \"DATA5035_ROLE\"\n",
    "}\n",
    "```\n",
    "\n",
    "Then you can run a command like this to test the JWT you created\n",
    "\n",
    "```bash\n",
    "curl -i -X POST \\\n",
    "    -H \"Content-Type: application/json\" \\\n",
    "    -H \"Authorization: Bearer <jwt>\" \\\n",
    "    -H \"Accept: application/json\" \\\n",
    "    -H \"User-Agent: myApplicationName/1.0\" \\\n",
    "    -H \"X-Snowflake-Authorization-Token-Type: KEYPAIR_JWT\" \\\n",
    "    -d \"@query.json\" \\\n",
    "    \"https://fullurl.snowflakecomputing.com/api/v2/statements\"\n",
    "```\n"
   ]
  },
  {
   "cell_type": "code",
   "execution_count": null,
   "metadata": {},
   "outputs": [],
   "source": [
    "import requests\n",
    "\n",
    "headers = {\n",
    "    'Content-Type': 'application/json',\n",
    "    'Authorization': f'Bearer {token}',\n",
    "    'Accept': 'application/json',\n",
    "    'User-Agent': 'Python/13.x',\n",
    "    'X-Snowflake-Authorization-Token-Type': 'KEYPAIR_JWT'\n",
    "}\n",
    "\n",
    "response = requests.post(\n",
    "    headers=headers,\n",
    "    url='https://fullurl.snowflakecomputing.com/api/v2/statements',\n",
    "    data=open('query.json').read()\n",
    ")"
   ]
  },
  {
   "cell_type": "code",
   "execution_count": null,
   "metadata": {},
   "outputs": [],
   "source": [
    "response.json()"
   ]
  },
  {
   "cell_type": "code",
   "execution_count": null,
   "metadata": {},
   "outputs": [],
   "source": [
    "response.json().keys()"
   ]
  },
  {
   "cell_type": "code",
   "execution_count": null,
   "metadata": {},
   "outputs": [],
   "source": [
    "response.json()['data']"
   ]
  },
  {
   "cell_type": "code",
   "execution_count": null,
   "metadata": {},
   "outputs": [],
   "source": [
    "import pandas as pd\n",
    "df = pd.DataFrame(\n",
    "    response.json()['data'],\n",
    "    columns=[x['name'] for x in response.json()['resultSetMetaData']['rowType']]\n",
    ")"
   ]
  },
  {
   "cell_type": "code",
   "execution_count": null,
   "metadata": {},
   "outputs": [],
   "source": [
    "df"
   ]
  },
  {
   "cell_type": "code",
   "execution_count": null,
   "metadata": {},
   "outputs": [],
   "source": []
  }
 ],
 "metadata": {
  "kernelspec": {
   "display_name": "data5035",
   "language": "python",
   "name": "python3"
  },
  "language_info": {
   "codemirror_mode": {
    "name": "ipython",
    "version": 3
   },
   "file_extension": ".py",
   "mimetype": "text/x-python",
   "name": "python",
   "nbconvert_exporter": "python",
   "pygments_lexer": "ipython3",
   "version": "3.11.9"
  }
 },
 "nbformat": 4,
 "nbformat_minor": 2
}
